{
 "cells": [
  {
   "cell_type": "markdown",
   "metadata": {
    "tags": []
   },
   "source": [
    "# Safe and Sound Data Showdown\n",
    "\n",
    "For details on the scope, prizes and phases of this challenge see: [Safe and Sound Data Showdown](https://app.humyn.ai/challenges/45f4da8a-8b1f-4640-ac26-1e476d27d004)"
   ]
  },
  {
   "cell_type": "markdown",
   "metadata": {},
   "source": [
    "***"
   ]
  },
  {
   "cell_type": "markdown",
   "metadata": {
    "tags": []
   },
   "source": [
    "## Phase 1\n",
    "\n",
    "> * A dot-point summary of your initial findings.\n",
    "> * All the related resources (notebooks, code, models, etc.) associated your initial work.\n"
   ]
  },
  {
   "cell_type": "markdown",
   "metadata": {},
   "source": [
    "**The goal of this challenge is to improve the safety for employees working within a large mining organisation.**\n",
    "\n",
    "\n",
    "You’ll have access to datasets relating to the historical safety incidents themselves, mine site production, employee rosters / leave / duration, and much much more!\n",
    "\n",
    "Can you use this data to help improve the safety for all current and future employees?"
   ]
  },
  {
   "cell_type": "markdown",
   "metadata": {},
   "source": [
    "This phase will be judged on:\n",
    "\n",
    "A report documenting your findings (in PDF format, or a well formatted notebook).\n",
    "\n",
    "Code or assets produced during your analysis (notebooks, code files, models, visualisations etc).\n",
    "\n",
    "**Description**\n",
    "- Can you use your data science skills to help drive safety improvements within the resources sector?\n",
    "\n",
    "- Can you analyse safety related datasets to discover useful & practical insights?\n",
    "\n",
    "**Your Task**\n",
    "- Your task is to use the provided datasets to uncover insights that reveal useful information around the safety of mine-site employees / contractors. \n",
    "\n",
    "- This mining organisation is looking to answer a broad range of questions relating to the analysis of these safety related datasets, from the highest-level...\n",
    "\n",
    "**Analyse the provided datasets to uncover insights into what features are contributing to the observed safety incidents.**\n",
    "\n",
    "Develop approaches that allow the safety team to provide insights / trends / actions back to the wider-business on the safety performance across time.\n",
    "\n",
    "Identify where predictive models or machine learning approaches could provide value to the safety team to monitor / improve their safety performance."
   ]
  },
  {
   "cell_type": "code",
   "execution_count": 3,
   "metadata": {},
   "outputs": [
    {
     "data": {
      "text/html": [
       "        <script type=\"text/javascript\">\n",
       "        window.PlotlyConfig = {MathJaxConfig: 'local'};\n",
       "        if (window.MathJax) {MathJax.Hub.Config({SVG: {font: \"STIX-Web\"}});}\n",
       "        if (typeof require !== 'undefined') {\n",
       "        require.undef(\"plotly\");\n",
       "        requirejs.config({\n",
       "            paths: {\n",
       "                'plotly': ['https://cdn.plot.ly/plotly-2.9.0.min']\n",
       "            }\n",
       "        });\n",
       "        require(['plotly'], function(Plotly) {\n",
       "            window._Plotly = Plotly;\n",
       "        });\n",
       "        }\n",
       "        </script>\n",
       "        "
      ]
     },
     "metadata": {},
     "output_type": "display_data"
    },
    {
     "data": {
      "text/html": [
       "        <script type=\"text/javascript\">\n",
       "        window.PlotlyConfig = {MathJaxConfig: 'local'};\n",
       "        if (window.MathJax) {MathJax.Hub.Config({SVG: {font: \"STIX-Web\"}});}\n",
       "        if (typeof require !== 'undefined') {\n",
       "        require.undef(\"plotly\");\n",
       "        requirejs.config({\n",
       "            paths: {\n",
       "                'plotly': ['https://cdn.plot.ly/plotly-2.9.0.min']\n",
       "            }\n",
       "        });\n",
       "        require(['plotly'], function(Plotly) {\n",
       "            window._Plotly = Plotly;\n",
       "        });\n",
       "        }\n",
       "        </script>\n",
       "        "
      ]
     },
     "metadata": {},
     "output_type": "display_data"
    }
   ],
   "source": [
    "# To Load the python libraries\n",
    "import pandas as pd\n",
    "import numpy as np\n",
    "import seaborn as sns\n",
    "import matplotlib.pyplot as plt\n",
    "import plotly.express as px\n",
    "import plotly.graph_objects as go\n",
    "%matplotlib inline\n",
    "\n",
    "# Supress Warnings\n",
    "import warnings\n",
    "warnings.filterwarnings(\"ignore\")\n",
    "\n",
    "# Make Plotly work in your Jupyter Notebook\n",
    "import chart_studio.plotly as py\n",
    "import cufflinks as cf\n",
    "import plotly.express as px\n",
    "from plotly.offline import download_plotlyjs, init_notebook_mode, plot, iplot\n",
    "init_notebook_mode(connected=True)\n",
    "# Use Plotly locally\n",
    "cf.go_offline()"
   ]
  },
  {
   "cell_type": "code",
   "execution_count": 4,
   "metadata": {},
   "outputs": [
    {
     "data": {
      "text/plain": [
       "'c:\\\\Users\\\\Dell\\\\Documents\\\\Humai\\\\adeleke-adedeji'"
      ]
     },
     "execution_count": 4,
     "metadata": {},
     "output_type": "execute_result"
    }
   ],
   "source": [
    "import os\n",
    "os.getcwd()"
   ]
  },
  {
   "cell_type": "code",
   "execution_count": 8,
   "metadata": {},
   "outputs": [],
   "source": [
    "path=\"C:/Users/Dell/Documents/Humai/adeleke-adedeji/data\""
   ]
  },
  {
   "cell_type": "code",
   "execution_count": 9,
   "metadata": {},
   "outputs": [],
   "source": [
    "os.chdir(path)"
   ]
  },
  {
   "cell_type": "code",
   "execution_count": 10,
   "metadata": {},
   "outputs": [],
   "source": [
    "# To load the dataset into jupyter notebook\n",
    "safety=pd.read_csv(\"safety_events.csv\")\n",
    "emp_start=pd.read_csv(\"emp_start_end_dates.csv\")\n",
    "employee_roster= pd.read_csv(\"employee_roster.csv\")\n",
    "labour_hours=pd.read_csv(\"labour_hours_worked.csv\")\n",
    "person_workgroup=pd.read_csv(\"person_workgroup.csv\")\n",
    "production_data=pd.read_csv(\"production_data.csv\")\n",
    "site_location=pd.read_csv(\"site_location.csv\")"
   ]
  },
  {
   "cell_type": "code",
   "execution_count": 11,
   "metadata": {},
   "outputs": [
    {
     "data": {
      "text/html": [
       "<div>\n",
       "<style scoped>\n",
       "    .dataframe tbody tr th:only-of-type {\n",
       "        vertical-align: middle;\n",
       "    }\n",
       "\n",
       "    .dataframe tbody tr th {\n",
       "        vertical-align: top;\n",
       "    }\n",
       "\n",
       "    .dataframe thead th {\n",
       "        text-align: right;\n",
       "    }\n",
       "</style>\n",
       "<table border=\"1\" class=\"dataframe\">\n",
       "  <thead>\n",
       "    <tr style=\"text-align: right;\">\n",
       "      <th></th>\n",
       "      <th>site_key_hashed</th>\n",
       "      <th>lat</th>\n",
       "      <th>lon</th>\n",
       "    </tr>\n",
       "  </thead>\n",
       "  <tbody>\n",
       "    <tr>\n",
       "      <th>0</th>\n",
       "      <td>bf4065199d70073b</td>\n",
       "      <td>-20.708176</td>\n",
       "      <td>140.504777</td>\n",
       "    </tr>\n",
       "    <tr>\n",
       "      <th>1</th>\n",
       "      <td>53030efca88e7301</td>\n",
       "      <td>-25.259735</td>\n",
       "      <td>151.435822</td>\n",
       "    </tr>\n",
       "    <tr>\n",
       "      <th>2</th>\n",
       "      <td>28163a97aea8a693</td>\n",
       "      <td>-31.322330</td>\n",
       "      <td>119.125864</td>\n",
       "    </tr>\n",
       "    <tr>\n",
       "      <th>3</th>\n",
       "      <td>da820a60662e5c87</td>\n",
       "      <td>-20.220901</td>\n",
       "      <td>146.204969</td>\n",
       "    </tr>\n",
       "    <tr>\n",
       "      <th>4</th>\n",
       "      <td>350755ad348968b9</td>\n",
       "      <td>-24.929380</td>\n",
       "      <td>150.087177</td>\n",
       "    </tr>\n",
       "  </tbody>\n",
       "</table>\n",
       "</div>"
      ],
      "text/plain": [
       "    site_key_hashed        lat         lon\n",
       "0  bf4065199d70073b -20.708176  140.504777\n",
       "1  53030efca88e7301 -25.259735  151.435822\n",
       "2  28163a97aea8a693 -31.322330  119.125864\n",
       "3  da820a60662e5c87 -20.220901  146.204969\n",
       "4  350755ad348968b9 -24.929380  150.087177"
      ]
     },
     "execution_count": 11,
     "metadata": {},
     "output_type": "execute_result"
    }
   ],
   "source": [
    "site_location.head()"
   ]
  },
  {
   "cell_type": "code",
   "execution_count": 12,
   "metadata": {},
   "outputs": [
    {
     "data": {
      "text/html": [
       "<div>\n",
       "<style scoped>\n",
       "    .dataframe tbody tr th:only-of-type {\n",
       "        vertical-align: middle;\n",
       "    }\n",
       "\n",
       "    .dataframe tbody tr th {\n",
       "        vertical-align: top;\n",
       "    }\n",
       "\n",
       "    .dataframe thead th {\n",
       "        text-align: right;\n",
       "    }\n",
       "</style>\n",
       "<table border=\"1\" class=\"dataframe\">\n",
       "  <thead>\n",
       "    <tr style=\"text-align: right;\">\n",
       "      <th></th>\n",
       "      <th>site_key_hashed</th>\n",
       "      <th>WorkGroupId</th>\n",
       "      <th>day</th>\n",
       "      <th>event_time</th>\n",
       "      <th>event_dt</th>\n",
       "      <th>event_reported_time</th>\n",
       "      <th>event_reported_dt</th>\n",
       "      <th>EventId</th>\n",
       "      <th>AgencyOfInjuryId</th>\n",
       "      <th>AgencyOfInjury</th>\n",
       "      <th>...</th>\n",
       "      <th>NatureOfInjury</th>\n",
       "      <th>NatureOfInjuryDecription</th>\n",
       "      <th>shift_commenced_day</th>\n",
       "      <th>shift_commenced_time</th>\n",
       "      <th>derived_shift_start_dt</th>\n",
       "      <th>shift_end_day</th>\n",
       "      <th>shift_end_time</th>\n",
       "      <th>derived_shift_end_dt</th>\n",
       "      <th>TimeBand</th>\n",
       "      <th>LTIDays</th>\n",
       "    </tr>\n",
       "  </thead>\n",
       "  <tbody>\n",
       "    <tr>\n",
       "      <th>0</th>\n",
       "      <td>bf4065199d70073b</td>\n",
       "      <td>771</td>\n",
       "      <td>2000-06-25</td>\n",
       "      <td>21:30:00</td>\n",
       "      <td>2000-06-25T21:30:00Z</td>\n",
       "      <td>22:00:00</td>\n",
       "      <td>2000-06-25T22:00:00Z</td>\n",
       "      <td>560120</td>\n",
       "      <td>12</td>\n",
       "      <td>Outdoor environment</td>\n",
       "      <td>...</td>\n",
       "      <td>Sprain and strains</td>\n",
       "      <td>Sprains and strains of joints and adjacent mus...</td>\n",
       "      <td>1900-01-01</td>\n",
       "      <td>0:00:00</td>\n",
       "      <td>1900-01-01T00:00:00Z</td>\n",
       "      <td>1900-01-01</td>\n",
       "      <td>12:00:00 AM</td>\n",
       "      <td>1900-01-01T00:00:00Z</td>\n",
       "      <td>NaN</td>\n",
       "      <td>8117</td>\n",
       "    </tr>\n",
       "    <tr>\n",
       "      <th>1</th>\n",
       "      <td>bf4065199d70073b</td>\n",
       "      <td>771</td>\n",
       "      <td>2000-06-25</td>\n",
       "      <td>01:30:00</td>\n",
       "      <td>2000-06-25T01:30:00Z</td>\n",
       "      <td>02:00:00</td>\n",
       "      <td>2000-06-25T02:00:00Z</td>\n",
       "      <td>555108</td>\n",
       "      <td>2</td>\n",
       "      <td>Fixed Plant</td>\n",
       "      <td>...</td>\n",
       "      <td>Sprain and strains</td>\n",
       "      <td>Sprains and strains of joints and adjacent mus...</td>\n",
       "      <td>1900-01-01</td>\n",
       "      <td>0:00:00</td>\n",
       "      <td>1900-01-01T00:00:00Z</td>\n",
       "      <td>1900-01-01</td>\n",
       "      <td>12:00:00 AM</td>\n",
       "      <td>1900-01-01T00:00:00Z</td>\n",
       "      <td>NaN</td>\n",
       "      <td>8117</td>\n",
       "    </tr>\n",
       "    <tr>\n",
       "      <th>2</th>\n",
       "      <td>bf4065199d70073b</td>\n",
       "      <td>771</td>\n",
       "      <td>2000-07-18</td>\n",
       "      <td>06:10:00</td>\n",
       "      <td>2000-07-18T06:10:00Z</td>\n",
       "      <td>07:12:00</td>\n",
       "      <td>2000-07-18T07:12:00Z</td>\n",
       "      <td>554760</td>\n",
       "      <td>3</td>\n",
       "      <td>Mobile Plant</td>\n",
       "      <td>...</td>\n",
       "      <td>Sprain and strains</td>\n",
       "      <td>Sprains and strains of joints and adjacent mus...</td>\n",
       "      <td>1900-01-01</td>\n",
       "      <td>0:00:00</td>\n",
       "      <td>1900-01-01T00:00:00Z</td>\n",
       "      <td>1900-01-01</td>\n",
       "      <td>12:00:00 AM</td>\n",
       "      <td>1900-01-01T00:00:00Z</td>\n",
       "      <td>NaN</td>\n",
       "      <td>8094</td>\n",
       "    </tr>\n",
       "    <tr>\n",
       "      <th>3</th>\n",
       "      <td>bf4065199d70073b</td>\n",
       "      <td>771</td>\n",
       "      <td>2000-07-18</td>\n",
       "      <td>06:10:00</td>\n",
       "      <td>2000-07-18T06:10:00Z</td>\n",
       "      <td>07:12:00</td>\n",
       "      <td>2000-07-18T07:12:00Z</td>\n",
       "      <td>554760</td>\n",
       "      <td>2</td>\n",
       "      <td>Fixed Plant</td>\n",
       "      <td>...</td>\n",
       "      <td>Sprain and strains</td>\n",
       "      <td>Sprains and strains of joints and adjacent mus...</td>\n",
       "      <td>1900-01-01</td>\n",
       "      <td>0:00:00</td>\n",
       "      <td>1900-01-01T00:00:00Z</td>\n",
       "      <td>1900-01-01</td>\n",
       "      <td>12:00:00 AM</td>\n",
       "      <td>1900-01-01T00:00:00Z</td>\n",
       "      <td>NaN</td>\n",
       "      <td>8094</td>\n",
       "    </tr>\n",
       "    <tr>\n",
       "      <th>4</th>\n",
       "      <td>bf4065199d70073b</td>\n",
       "      <td>771</td>\n",
       "      <td>2000-08-12</td>\n",
       "      <td>11:10:00</td>\n",
       "      <td>2000-08-12T11:10:00Z</td>\n",
       "      <td>11:41:00</td>\n",
       "      <td>2000-08-12T11:41:00Z</td>\n",
       "      <td>556554</td>\n",
       "      <td>6</td>\n",
       "      <td>Powered equipment</td>\n",
       "      <td>...</td>\n",
       "      <td>Sprain and strains</td>\n",
       "      <td>Sprains and strains of joints and adjacent mus...</td>\n",
       "      <td>1900-01-01</td>\n",
       "      <td>0:00:00</td>\n",
       "      <td>1900-01-01T00:00:00Z</td>\n",
       "      <td>1900-01-01</td>\n",
       "      <td>12:00:00 AM</td>\n",
       "      <td>1900-01-01T00:00:00Z</td>\n",
       "      <td>NaN</td>\n",
       "      <td>8069</td>\n",
       "    </tr>\n",
       "  </tbody>\n",
       "</table>\n",
       "<p>5 rows × 35 columns</p>\n",
       "</div>"
      ],
      "text/plain": [
       "    site_key_hashed  WorkGroupId         day event_time              event_dt  \\\n",
       "0  bf4065199d70073b          771  2000-06-25   21:30:00  2000-06-25T21:30:00Z   \n",
       "1  bf4065199d70073b          771  2000-06-25   01:30:00  2000-06-25T01:30:00Z   \n",
       "2  bf4065199d70073b          771  2000-07-18   06:10:00  2000-07-18T06:10:00Z   \n",
       "3  bf4065199d70073b          771  2000-07-18   06:10:00  2000-07-18T06:10:00Z   \n",
       "4  bf4065199d70073b          771  2000-08-12   11:10:00  2000-08-12T11:10:00Z   \n",
       "\n",
       "  event_reported_time     event_reported_dt  EventId  AgencyOfInjuryId  \\\n",
       "0            22:00:00  2000-06-25T22:00:00Z   560120                12   \n",
       "1            02:00:00  2000-06-25T02:00:00Z   555108                 2   \n",
       "2            07:12:00  2000-07-18T07:12:00Z   554760                 3   \n",
       "3            07:12:00  2000-07-18T07:12:00Z   554760                 2   \n",
       "4            11:41:00  2000-08-12T11:41:00Z   556554                 6   \n",
       "\n",
       "        AgencyOfInjury  ...      NatureOfInjury  \\\n",
       "0  Outdoor environment  ...  Sprain and strains   \n",
       "1          Fixed Plant  ...  Sprain and strains   \n",
       "2         Mobile Plant  ...  Sprain and strains   \n",
       "3          Fixed Plant  ...  Sprain and strains   \n",
       "4    Powered equipment  ...  Sprain and strains   \n",
       "\n",
       "                            NatureOfInjuryDecription shift_commenced_day  \\\n",
       "0  Sprains and strains of joints and adjacent mus...          1900-01-01   \n",
       "1  Sprains and strains of joints and adjacent mus...          1900-01-01   \n",
       "2  Sprains and strains of joints and adjacent mus...          1900-01-01   \n",
       "3  Sprains and strains of joints and adjacent mus...          1900-01-01   \n",
       "4  Sprains and strains of joints and adjacent mus...          1900-01-01   \n",
       "\n",
       "  shift_commenced_time  derived_shift_start_dt shift_end_day shift_end_time  \\\n",
       "0              0:00:00    1900-01-01T00:00:00Z    1900-01-01    12:00:00 AM   \n",
       "1              0:00:00    1900-01-01T00:00:00Z    1900-01-01    12:00:00 AM   \n",
       "2              0:00:00    1900-01-01T00:00:00Z    1900-01-01    12:00:00 AM   \n",
       "3              0:00:00    1900-01-01T00:00:00Z    1900-01-01    12:00:00 AM   \n",
       "4              0:00:00    1900-01-01T00:00:00Z    1900-01-01    12:00:00 AM   \n",
       "\n",
       "   derived_shift_end_dt TimeBand LTIDays  \n",
       "0  1900-01-01T00:00:00Z      NaN    8117  \n",
       "1  1900-01-01T00:00:00Z      NaN    8117  \n",
       "2  1900-01-01T00:00:00Z      NaN    8094  \n",
       "3  1900-01-01T00:00:00Z      NaN    8094  \n",
       "4  1900-01-01T00:00:00Z      NaN    8069  \n",
       "\n",
       "[5 rows x 35 columns]"
      ]
     },
     "execution_count": 12,
     "metadata": {},
     "output_type": "execute_result"
    }
   ],
   "source": [
    "safety.head()"
   ]
  },
  {
   "cell_type": "code",
   "execution_count": null,
   "metadata": {},
   "outputs": [],
   "source": [
    "emp_start.head()"
   ]
  },
  {
   "cell_type": "code",
   "execution_count": null,
   "metadata": {},
   "outputs": [],
   "source": [
    "employee_roster.head()"
   ]
  },
  {
   "cell_type": "code",
   "execution_count": null,
   "metadata": {},
   "outputs": [],
   "source": [
    "labour_hours.head()"
   ]
  },
  {
   "cell_type": "code",
   "execution_count": null,
   "metadata": {},
   "outputs": [],
   "source": [
    "production_data.head()"
   ]
  },
  {
   "cell_type": "code",
   "execution_count": null,
   "metadata": {},
   "outputs": [],
   "source": [
    "site_location.head()"
   ]
  },
  {
   "cell_type": "code",
   "execution_count": null,
   "metadata": {},
   "outputs": [],
   "source": []
  },
  {
   "cell_type": "markdown",
   "metadata": {},
   "source": [
    "### Q1. (Example: Does daylight savings time affect injury frequency?)\n",
    "\n",
    "To explore this question, first I started by creating new dataframe and some new columns"
   ]
  },
  {
   "cell_type": "code",
   "execution_count": 13,
   "metadata": {},
   "outputs": [],
   "source": [
    "# Converting the time/ date to datetime dtypes\n",
    "safety[\"day\"]=pd.to_datetime(safety[\"day\"])\n",
    "safety[\"event_dt\"]=pd.to_datetime(safety[\"event_dt\"])\n",
    "safety[\"event_reported_dt\"]=pd.to_datetime(safety[\"event_reported_dt\"])\n",
    "safety[\"event_time\"]=pd.to_datetime(safety[\"event_time\"])\n",
    "safety[\"event_reported_time\"]=pd.to_datetime(safety[\"event_reported_time\"])"
   ]
  },
  {
   "cell_type": "code",
   "execution_count": 14,
   "metadata": {},
   "outputs": [
    {
     "name": "stdout",
     "output_type": "stream",
     "text": [
      "<class 'pandas.core.frame.DataFrame'>\n",
      "RangeIndex: 6970 entries, 0 to 6969\n",
      "Data columns (total 35 columns):\n",
      " #   Column                       Non-Null Count  Dtype              \n",
      "---  ------                       --------------  -----              \n",
      " 0   site_key_hashed              6970 non-null   object             \n",
      " 1   WorkGroupId                  6970 non-null   int64              \n",
      " 2   day                          6970 non-null   datetime64[ns]     \n",
      " 3   event_time                   6970 non-null   datetime64[ns]     \n",
      " 4   event_dt                     6970 non-null   datetime64[ns, UTC]\n",
      " 5   event_reported_time          2643 non-null   datetime64[ns]     \n",
      " 6   event_reported_dt            2643 non-null   datetime64[ns, UTC]\n",
      " 7   EventId                      6970 non-null   int64              \n",
      " 8   AgencyOfInjuryId             6970 non-null   int64              \n",
      " 9   AgencyOfInjury               6690 non-null   object             \n",
      " 10  AgencyOfInjuryDescription    6690 non-null   object             \n",
      " 11  BodyPartId                   6970 non-null   int64              \n",
      " 12  BodyPart                     6527 non-null   object             \n",
      " 13  BodyPartDescription          6527 non-null   object             \n",
      " 14  LostTime                     6970 non-null   bool               \n",
      " 15  PersonName_hashed            2849 non-null   object             \n",
      " 16  StaffContractor              4044 non-null   object             \n",
      " 17  OrganisationName_hashed      683 non-null    object             \n",
      " 18  InjuryTypeCode               6970 non-null   object             \n",
      " 19  Injury                       6970 non-null   object             \n",
      " 20  Reportable                   6970 non-null   bool               \n",
      " 21  Significant                  6970 non-null   bool               \n",
      " 22  MechanismOfInjuryId          6970 non-null   int64              \n",
      " 23  MechanismOfInjury            6970 non-null   object             \n",
      " 24  MechanismOfInjuryDecription  6970 non-null   object             \n",
      " 25  NatureOfInjury               6686 non-null   object             \n",
      " 26  NatureOfInjuryDecription     6686 non-null   object             \n",
      " 27  shift_commenced_day          2894 non-null   object             \n",
      " 28  shift_commenced_time         2894 non-null   object             \n",
      " 29  derived_shift_start_dt       2894 non-null   object             \n",
      " 30  shift_end_day                2894 non-null   object             \n",
      " 31  shift_end_time               2894 non-null   object             \n",
      " 32  derived_shift_end_dt         2894 non-null   object             \n",
      " 33  TimeBand                     262 non-null    object             \n",
      " 34  LTIDays                      6970 non-null   int64              \n",
      "dtypes: bool(3), datetime64[ns, UTC](2), datetime64[ns](3), int64(6), object(21)\n",
      "memory usage: 1.7+ MB\n"
     ]
    }
   ],
   "source": [
    "safety.info()"
   ]
  },
  {
   "cell_type": "code",
   "execution_count": 1,
   "metadata": {},
   "outputs": [],
   "source": [
    "# code exploring question one"
   ]
  },
  {
   "cell_type": "code",
   "execution_count": 15,
   "metadata": {},
   "outputs": [],
   "source": [
    "# Creating a new dataset for this  \n",
    "period=pd.DataFrame()\n",
    "period[\"Day\"]=safety[\"day\"].dt.day\n",
    "period[\"Month\"]=safety[\"day\"].dt.month\n",
    "period[\"Year\"]=safety[\"day\"].dt.year\n",
    "period[\"Day_of_week\"]=safety[\"day\"].dt.dayofweek\n",
    "period[\"Hour\"]=safety[\"event_dt\"].dt.hour\n",
    "\n",
    "\n",
    "# \n",
    "perlist=[]\n",
    "for hour in list(period.Hour):\n",
    "    if hour in [4,5,6,7,8,9,10,11]:\n",
    "        perlist.append(\"Morning\")\n",
    "    elif hour in [12,13,14,15]:\n",
    "        perlist.append(\"Afternoon\")\n",
    "    elif hour in [16,17,18,19,]:\n",
    "        perlist.append(\"Evening\")\n",
    " \n",
    "    else:\n",
    "        perlist.append(\"Night\")\n",
    "        \n",
    "        \n",
    "period[\"Period_time\"]=perlist\n",
    "\n",
    "#\n",
    "weeklist=[]\n",
    "for day in list(period.Hour):\n",
    "    if day < 5:\n",
    "        weeklist.append(\"Weekend\")\n",
    "    else:\n",
    "        weeklist.append(\"Week-Day\")\n",
    "    \n",
    "    \n",
    "period[\"week_type\"]=weeklist\n",
    "\n",
    "#\n",
    "yearlist=[]\n",
    "for hour in list(period.Month):\n",
    "    if hour in [12,1,2,]:\n",
    "        yearlist.append(\"Winter\")\n",
    "    elif hour in [3,4,5]:\n",
    "        yearlist.append(\"Spring\")\n",
    "    elif hour in [6,7,8,]:\n",
    "        yearlist.append(\"Summer\")        \n",
    "    else:\n",
    "        yearlist.append(\"Autum\")\n",
    "        \n",
    "        \n",
    "period[\"Year_time\"]=yearlist\n",
    "\n"
   ]
  },
  {
   "cell_type": "markdown",
   "metadata": {},
   "source": [
    "- Winter – December, January and February.\n",
    "- Spring – March, April and May.\n",
    "- Summer – June, July and August.\n",
    "- Autumn – September, October and November."
   ]
  },
  {
   "cell_type": "code",
   "execution_count": 16,
   "metadata": {},
   "outputs": [
    {
     "data": {
      "text/html": [
       "<div>\n",
       "<style scoped>\n",
       "    .dataframe tbody tr th:only-of-type {\n",
       "        vertical-align: middle;\n",
       "    }\n",
       "\n",
       "    .dataframe tbody tr th {\n",
       "        vertical-align: top;\n",
       "    }\n",
       "\n",
       "    .dataframe thead th {\n",
       "        text-align: right;\n",
       "    }\n",
       "</style>\n",
       "<table border=\"1\" class=\"dataframe\">\n",
       "  <thead>\n",
       "    <tr style=\"text-align: right;\">\n",
       "      <th></th>\n",
       "      <th>Day</th>\n",
       "      <th>Month</th>\n",
       "      <th>Year</th>\n",
       "      <th>Day_of_week</th>\n",
       "      <th>Hour</th>\n",
       "      <th>Period_time</th>\n",
       "      <th>week_type</th>\n",
       "      <th>Year_time</th>\n",
       "    </tr>\n",
       "  </thead>\n",
       "  <tbody>\n",
       "    <tr>\n",
       "      <th>0</th>\n",
       "      <td>25</td>\n",
       "      <td>6</td>\n",
       "      <td>2000</td>\n",
       "      <td>6</td>\n",
       "      <td>21</td>\n",
       "      <td>Night</td>\n",
       "      <td>Week-Day</td>\n",
       "      <td>Summer</td>\n",
       "    </tr>\n",
       "    <tr>\n",
       "      <th>1</th>\n",
       "      <td>25</td>\n",
       "      <td>6</td>\n",
       "      <td>2000</td>\n",
       "      <td>6</td>\n",
       "      <td>1</td>\n",
       "      <td>Night</td>\n",
       "      <td>Weekend</td>\n",
       "      <td>Summer</td>\n",
       "    </tr>\n",
       "    <tr>\n",
       "      <th>2</th>\n",
       "      <td>18</td>\n",
       "      <td>7</td>\n",
       "      <td>2000</td>\n",
       "      <td>1</td>\n",
       "      <td>6</td>\n",
       "      <td>Morning</td>\n",
       "      <td>Week-Day</td>\n",
       "      <td>Summer</td>\n",
       "    </tr>\n",
       "    <tr>\n",
       "      <th>3</th>\n",
       "      <td>18</td>\n",
       "      <td>7</td>\n",
       "      <td>2000</td>\n",
       "      <td>1</td>\n",
       "      <td>6</td>\n",
       "      <td>Morning</td>\n",
       "      <td>Week-Day</td>\n",
       "      <td>Summer</td>\n",
       "    </tr>\n",
       "    <tr>\n",
       "      <th>4</th>\n",
       "      <td>12</td>\n",
       "      <td>8</td>\n",
       "      <td>2000</td>\n",
       "      <td>5</td>\n",
       "      <td>11</td>\n",
       "      <td>Morning</td>\n",
       "      <td>Week-Day</td>\n",
       "      <td>Summer</td>\n",
       "    </tr>\n",
       "  </tbody>\n",
       "</table>\n",
       "</div>"
      ],
      "text/plain": [
       "   Day  Month  Year  Day_of_week  Hour Period_time week_type Year_time\n",
       "0   25      6  2000            6    21       Night  Week-Day    Summer\n",
       "1   25      6  2000            6     1       Night   Weekend    Summer\n",
       "2   18      7  2000            1     6     Morning  Week-Day    Summer\n",
       "3   18      7  2000            1     6     Morning  Week-Day    Summer\n",
       "4   12      8  2000            5    11     Morning  Week-Day    Summer"
      ]
     },
     "execution_count": 16,
     "metadata": {},
     "output_type": "execute_result"
    }
   ],
   "source": [
    "period.head()"
   ]
  },
  {
   "cell_type": "code",
   "execution_count": 17,
   "metadata": {},
   "outputs": [
    {
     "data": {
      "image/png": "[encoded data removed]",
      "text/plain": [
       "<Figure size 1080x576 with 1 Axes>"
      ]
     },
     "metadata": {
      "needs_background": "light"
     },
     "output_type": "display_data"
    }
   ],
   "source": [
    "\n",
    "plt.figure(figsize=(15,8))\n",
    "ax=sns.countplot(period[\"Year_time\"])\n",
    "plt.xticks(rotation=45,size=15)\n",
    "plt.xlabel(\"Time of the Year\",size=25)\n",
    "plt.title(\"Occurance of incident over the time of the year\",size=20)\n",
    "plt.ylabel(\"Counts\",size=20)\n",
    "for p in ax.patches:\n",
    "    ax.annotate(f'\\n{p.get_height()}', (p.get_x()+0.35, p.get_height()), ha='center', va='top', color='white', size=18)\n",
    "plt.show()"
   ]
  },
  {
   "cell_type": "code",
   "execution_count": 18,
   "metadata": {},
   "outputs": [
    {
     "data": {
      "image/png": "[encoded data removed]",
      "text/plain": [
       "<Figure size 1080x576 with 1 Axes>"
      ]
     },
     "metadata": {
      "needs_background": "light"
     },
     "output_type": "display_data"
    }
   ],
   "source": [
    "    plt.figure(figsize=(15,8))\n",
    "    ax=sns.countplot(period[\"Month\"])\n",
    "    plt.xticks(rotation=45,size=15)\n",
    "    plt.xlabel(\"Month\",size=25)\n",
    "    plt.title(\"Month Count of  occurance of injury\",size=20)\n",
    "    plt.ylabel(\"Counts\",size=20)\n",
    "    for p in ax.patches:\n",
    "        ax.annotate(f'\\n{p.get_height()}', (p.get_x()+0.35, p.get_height()), ha='center', va='top', color='white', size=18)\n",
    "    plt.show()"
   ]
  },
  {
   "cell_type": "code",
   "execution_count": 19,
   "metadata": {},
   "outputs": [
    {
     "data": {
      "image/png": "[encoded data removed]",
      "text/plain": [
       "<Figure size 1440x720 with 1 Axes>"
      ]
     },
     "metadata": {
      "needs_background": "light"
     },
     "output_type": "display_data"
    }
   ],
   "source": [
    "plt.figure(figsize=(20,10))\n",
    "sns.histplot(period['Day'],bins=5)\n",
    "plt.title(\"Disturbtion of Days\",size=30)\n",
    "plt.xticks(rotation=45,size=30)\n",
    "plt.xlabel(\"Day\",size=30)\n",
    "plt.ylabel(\"Counts\",size=30)\n",
    "plt.yticks(size=20)\n",
    "plt.show()"
   ]
  },
  {
   "cell_type": "code",
   "execution_count": 20,
   "metadata": {},
   "outputs": [
    {
     "data": {
      "image/png": "[encoded data removed]",
      "text/plain": [
       "<Figure size 1080x576 with 1 Axes>"
      ]
     },
     "metadata": {
      "needs_background": "light"
     },
     "output_type": "display_data"
    }
   ],
   "source": [
    "plt.figure(figsize=(15,8))\n",
    "ax=sns.countplot(period[\"Period_time\"])\n",
    "plt.xticks(rotation=45,size=15)\n",
    "plt.xlabel(\"Period Of Time\",size=25)\n",
    "plt.title(\"Daylight Period\",size=20)\n",
    "plt.ylabel(\"Counts\",size=20)\n",
    "for p in ax.patches:\n",
    "    ax.annotate(f'\\n{p.get_height()}', (p.get_x()+0.35, p.get_height()), ha='center', va='top', color='white', size=18)\n",
    "plt.show()"
   ]
  },
  {
   "cell_type": "code",
   "execution_count": 21,
   "metadata": {},
   "outputs": [],
   "source": [
    "# holiday. WE need to check the location/country of the site \n",
    "import folium\n",
    "map=folium.Map(zoom_start=14, control_scale=True)"
   ]
  },
  {
   "cell_type": "code",
   "execution_count": 22,
   "metadata": {},
   "outputs": [],
   "source": [
    "for index, location_info in site_location.iterrows():\n",
    "    folium.Marker([location_info[\"lat\"], location_info[\"lon\"]], popup=location_info[\"site_key_hashed\"]).add_to(map)"
   ]
  },
  {
   "cell_type": "code",
   "execution_count": 23,
   "metadata": {},
   "outputs": [
    {
     "data": {
      "text/html": [
       "<div style=\"width:100%;\"><div style=\"position:relative;width:100%;height:0;padding-bottom:60%;\"><span style=\"color:#565656\">Make this Notebook Trusted to load map: File -> Trust Notebook</span><iframe srcdoc=\"&lt;!DOCTYPE html&gt;\n",
       "&lt;html&gt;\n",
       "&lt;head&gt;\n",
       "    \n",
       "    &lt;meta http-equiv=&quot;content-type&quot; content=&quot;text/html; charset=UTF-8&quot; /&gt;\n",
       "    \n",
       "        &lt;script&gt;\n",
       "            L_NO_TOUCH = false;\n",
       "            L_DISABLE_3D = false;\n",
       "        &lt;/script&gt;\n",
       "    \n",
       "    &lt;style&gt;html, body {width: 100%;height: 100%;margin: 0;padding: 0;}&lt;/style&gt;\n",
       "    &lt;style&gt;#map {position:absolute;top:0;bottom:0;right:0;left:0;}&lt;/style&gt;\n",
       "    &lt;script src=&quot;https://cdn.jsdelivr.net/npm/leaflet@1.6.0/dist/leaflet.js&quot;&gt;&lt;/script&gt;\n",
       "    &lt;script src=&quot;https://code.jquery.com/jquery-1.12.4.min.js&quot;&gt;&lt;/script&gt;\n",
       "    &lt;script src=&quot;https://maxcdn.bootstrapcdn.com/bootstrap/3.2.0/js/bootstrap.min.js&quot;&gt;&lt;/script&gt;\n",
       "    &lt;script src=&quot;https://cdnjs.cloudflare.com/ajax/libs/Leaflet.awesome-markers/2.0.2/leaflet.awesome-markers.js&quot;&gt;&lt;/script&gt;\n",
       "    &lt;link rel=&quot;stylesheet&quot; href=&quot;https://cdn.jsdelivr.net/npm/leaflet@1.6.0/dist/leaflet.css&quot;/&gt;\n",
       "    &lt;link rel=&quot;stylesheet&quot; href=&quot;https://maxcdn.bootstrapcdn.com/bootstrap/3.2.0/css/bootstrap.min.css&quot;/&gt;\n",
       "    &lt;link rel=&quot;stylesheet&quot; href=&quot;https://maxcdn.bootstrapcdn.com/bootstrap/3.2.0/css/bootstrap-theme.min.css&quot;/&gt;\n",
       "    &lt;link rel=&quot;stylesheet&quot; href=&quot;https://maxcdn.bootstrapcdn.com/font-awesome/4.6.3/css/font-awesome.min.css&quot;/&gt;\n",
       "    &lt;link rel=&quot;stylesheet&quot; href=&quot;https://cdnjs.cloudflare.com/ajax/libs/Leaflet.awesome-markers/2.0.2/leaflet.awesome-markers.css&quot;/&gt;\n",
       "    &lt;link rel=&quot;stylesheet&quot; href=&quot;https://cdn.jsdelivr.net/gh/python-visualization/folium/folium/templates/leaflet.awesome.rotate.min.css&quot;/&gt;\n",
       "    \n",
       "            &lt;meta name=&quot;viewport&quot; content=&quot;width=device-width,\n",
       "                initial-scale=1.0, maximum-scale=1.0, user-scalable=no&quot; /&gt;\n",
       "            &lt;style&gt;\n",
       "                #map_47404b8c63e22a711ecf0f5b4206a108 {\n",
       "                    position: relative;\n",
       "                    width: 100.0%;\n",
       "                    height: 100.0%;\n",
       "                    left: 0.0%;\n",
       "                    top: 0.0%;\n",
       "                }\n",
       "            &lt;/style&gt;\n",
       "        \n",
       "&lt;/head&gt;\n",
       "&lt;body&gt;\n",
       "    \n",
       "    \n",
       "            &lt;div class=&quot;folium-map&quot; id=&quot;map_47404b8c63e22a711ecf0f5b4206a108&quot; &gt;&lt;/div&gt;\n",
       "        \n",
       "&lt;/body&gt;\n",
       "&lt;script&gt;\n",
       "    \n",
       "    \n",
       "            var map_47404b8c63e22a711ecf0f5b4206a108 = L.map(\n",
       "                &quot;map_47404b8c63e22a711ecf0f5b4206a108&quot;,\n",
       "                {\n",
       "                    center: [0, 0],\n",
       "                    crs: L.CRS.EPSG3857,\n",
       "                    zoom: 1,\n",
       "                    zoomControl: true,\n",
       "                    preferCanvas: false,\n",
       "                }\n",
       "            );\n",
       "            L.control.scale().addTo(map_47404b8c63e22a711ecf0f5b4206a108);\n",
       "\n",
       "            \n",
       "\n",
       "        \n",
       "    \n",
       "            var tile_layer_38d06286660b524bdaba288e9a7cc9e7 = L.tileLayer(\n",
       "                &quot;https://{s}.tile.openstreetmap.org/{z}/{x}/{y}.png&quot;,\n",
       "                {&quot;attribution&quot;: &quot;Data by \\u0026copy; \\u003ca href=\\&quot;http://openstreetmap.org\\&quot;\\u003eOpenStreetMap\\u003c/a\\u003e, under \\u003ca href=\\&quot;http://www.openstreetmap.org/copyright\\&quot;\\u003eODbL\\u003c/a\\u003e.&quot;, &quot;detectRetina&quot;: false, &quot;maxNativeZoom&quot;: 18, &quot;maxZoom&quot;: 18, &quot;minZoom&quot;: 0, &quot;noWrap&quot;: false, &quot;opacity&quot;: 1, &quot;subdomains&quot;: &quot;abc&quot;, &quot;tms&quot;: false}\n",
       "            ).addTo(map_47404b8c63e22a711ecf0f5b4206a108);\n",
       "        \n",
       "    \n",
       "            var marker_550bb50cbe20ee035ccae9b9e0d14547 = L.marker(\n",
       "                [-20.708176, 140.504777],\n",
       "                {}\n",
       "            ).addTo(map_47404b8c63e22a711ecf0f5b4206a108);\n",
       "        \n",
       "    \n",
       "        var popup_988b167e726cdb56ca442eb2b0ed68f3 = L.popup({&quot;maxWidth&quot;: &quot;100%&quot;});\n",
       "\n",
       "        \n",
       "            \n",
       "                var html_f022b111ab7e796a529b75ba6e562b8f = $(`&lt;div id=&quot;html_f022b111ab7e796a529b75ba6e562b8f&quot; style=&quot;width: 100.0%; height: 100.0%;&quot;&gt;bf4065199d70073b&lt;/div&gt;`)[0];\n",
       "                popup_988b167e726cdb56ca442eb2b0ed68f3.setContent(html_f022b111ab7e796a529b75ba6e562b8f);\n",
       "            \n",
       "        \n",
       "\n",
       "        marker_550bb50cbe20ee035ccae9b9e0d14547.bindPopup(popup_988b167e726cdb56ca442eb2b0ed68f3)\n",
       "        ;\n",
       "\n",
       "        \n",
       "    \n",
       "    \n",
       "            var marker_12e724776c3ef96f05ce06de539bd058 = L.marker(\n",
       "                [-25.259735, 151.435822],\n",
       "                {}\n",
       "            ).addTo(map_47404b8c63e22a711ecf0f5b4206a108);\n",
       "        \n",
       "    \n",
       "        var popup_19b67d9c391a459621e5fda1bc7cfec4 = L.popup({&quot;maxWidth&quot;: &quot;100%&quot;});\n",
       "\n",
       "        \n",
       "            \n",
       "                var html_51d61df573d83e2f1d33564afab72ae1 = $(`&lt;div id=&quot;html_51d61df573d83e2f1d33564afab72ae1&quot; style=&quot;width: 100.0%; height: 100.0%;&quot;&gt;53030efca88e7301&lt;/div&gt;`)[0];\n",
       "                popup_19b67d9c391a459621e5fda1bc7cfec4.setContent(html_51d61df573d83e2f1d33564afab72ae1);\n",
       "            \n",
       "        \n",
       "\n",
       "        marker_12e724776c3ef96f05ce06de539bd058.bindPopup(popup_19b67d9c391a459621e5fda1bc7cfec4)\n",
       "        ;\n",
       "\n",
       "        \n",
       "    \n",
       "    \n",
       "            var marker_acde92f10628094e89450d1d2347cc9c = L.marker(\n",
       "                [-31.32233, 119.125864],\n",
       "                {}\n",
       "            ).addTo(map_47404b8c63e22a711ecf0f5b4206a108);\n",
       "        \n",
       "    \n",
       "        var popup_432909d8f1d355233e1d3e4e3b5d3dbd = L.popup({&quot;maxWidth&quot;: &quot;100%&quot;});\n",
       "\n",
       "        \n",
       "            \n",
       "                var html_53fff58d0b8941957d0840b89e4a3155 = $(`&lt;div id=&quot;html_53fff58d0b8941957d0840b89e4a3155&quot; style=&quot;width: 100.0%; height: 100.0%;&quot;&gt;28163a97aea8a693&lt;/div&gt;`)[0];\n",
       "                popup_432909d8f1d355233e1d3e4e3b5d3dbd.setContent(html_53fff58d0b8941957d0840b89e4a3155);\n",
       "            \n",
       "        \n",
       "\n",
       "        marker_acde92f10628094e89450d1d2347cc9c.bindPopup(popup_432909d8f1d355233e1d3e4e3b5d3dbd)\n",
       "        ;\n",
       "\n",
       "        \n",
       "    \n",
       "    \n",
       "            var marker_bbaf35f642f9f3e670ca62a9a8e7a30b = L.marker(\n",
       "                [-20.220901, 146.204969],\n",
       "                {}\n",
       "            ).addTo(map_47404b8c63e22a711ecf0f5b4206a108);\n",
       "        \n",
       "    \n",
       "        var popup_9fec141afb946a25fa7164124f4c9ed3 = L.popup({&quot;maxWidth&quot;: &quot;100%&quot;});\n",
       "\n",
       "        \n",
       "            \n",
       "                var html_5f1f7ab113dba27bd3b0490d56975ff6 = $(`&lt;div id=&quot;html_5f1f7ab113dba27bd3b0490d56975ff6&quot; style=&quot;width: 100.0%; height: 100.0%;&quot;&gt;da820a60662e5c87&lt;/div&gt;`)[0];\n",
       "                popup_9fec141afb946a25fa7164124f4c9ed3.setContent(html_5f1f7ab113dba27bd3b0490d56975ff6);\n",
       "            \n",
       "        \n",
       "\n",
       "        marker_bbaf35f642f9f3e670ca62a9a8e7a30b.bindPopup(popup_9fec141afb946a25fa7164124f4c9ed3)\n",
       "        ;\n",
       "\n",
       "        \n",
       "    \n",
       "    \n",
       "            var marker_dfcb3531ce713a55d0456a075657148d = L.marker(\n",
       "                [-24.92938, 150.087177],\n",
       "                {}\n",
       "            ).addTo(map_47404b8c63e22a711ecf0f5b4206a108);\n",
       "        \n",
       "    \n",
       "        var popup_952f379e42fc4aed25d323504d2110cd = L.popup({&quot;maxWidth&quot;: &quot;100%&quot;});\n",
       "\n",
       "        \n",
       "            \n",
       "                var html_b6bc9a71d8ba31faee65637cf6cb55e2 = $(`&lt;div id=&quot;html_b6bc9a71d8ba31faee65637cf6cb55e2&quot; style=&quot;width: 100.0%; height: 100.0%;&quot;&gt;350755ad348968b9&lt;/div&gt;`)[0];\n",
       "                popup_952f379e42fc4aed25d323504d2110cd.setContent(html_b6bc9a71d8ba31faee65637cf6cb55e2);\n",
       "            \n",
       "        \n",
       "\n",
       "        marker_dfcb3531ce713a55d0456a075657148d.bindPopup(popup_952f379e42fc4aed25d323504d2110cd)\n",
       "        ;\n",
       "\n",
       "        \n",
       "    \n",
       "    \n",
       "            var marker_b24eec4d554783a54c8435e79019ea3a = L.marker(\n",
       "                [-20.490842, 147.619375],\n",
       "                {}\n",
       "            ).addTo(map_47404b8c63e22a711ecf0f5b4206a108);\n",
       "        \n",
       "    \n",
       "        var popup_152189588b512dd1754ee2a8fea9afe1 = L.popup({&quot;maxWidth&quot;: &quot;100%&quot;});\n",
       "\n",
       "        \n",
       "            \n",
       "                var html_a5d3c05d2ae65e7a470d775f035f9d35 = $(`&lt;div id=&quot;html_a5d3c05d2ae65e7a470d775f035f9d35&quot; style=&quot;width: 100.0%; height: 100.0%;&quot;&gt;30c6f1d4634a0268&lt;/div&gt;`)[0];\n",
       "                popup_152189588b512dd1754ee2a8fea9afe1.setContent(html_a5d3c05d2ae65e7a470d775f035f9d35);\n",
       "            \n",
       "        \n",
       "\n",
       "        marker_b24eec4d554783a54c8435e79019ea3a.bindPopup(popup_152189588b512dd1754ee2a8fea9afe1)\n",
       "        ;\n",
       "\n",
       "        \n",
       "    \n",
       "    \n",
       "            var marker_d401616e5fb3de0b759a01601858d380 = L.marker(\n",
       "                [51.066159, -93.800631],\n",
       "                {}\n",
       "            ).addTo(map_47404b8c63e22a711ecf0f5b4206a108);\n",
       "        \n",
       "    \n",
       "        var popup_bcf80cf3c8c8084567494d35ce586b67 = L.popup({&quot;maxWidth&quot;: &quot;100%&quot;});\n",
       "\n",
       "        \n",
       "            \n",
       "                var html_3a7e5f105103af43caeaab7f69f14e15 = $(`&lt;div id=&quot;html_3a7e5f105103af43caeaab7f69f14e15&quot; style=&quot;width: 100.0%; height: 100.0%;&quot;&gt;6d4b7ee99aebdab7&lt;/div&gt;`)[0];\n",
       "                popup_bcf80cf3c8c8084567494d35ce586b67.setContent(html_3a7e5f105103af43caeaab7f69f14e15);\n",
       "            \n",
       "        \n",
       "\n",
       "        marker_d401616e5fb3de0b759a01601858d380.bindPopup(popup_bcf80cf3c8c8084567494d35ce586b67)\n",
       "        ;\n",
       "\n",
       "        \n",
       "    \n",
       "    \n",
       "            var marker_231aef7c23b35c1fb4fbea347f8e0db8 = L.marker(\n",
       "                [-30.778814, 121.312537],\n",
       "                {}\n",
       "            ).addTo(map_47404b8c63e22a711ecf0f5b4206a108);\n",
       "        \n",
       "    \n",
       "        var popup_8c920bd0b55e6b1b382c22987b6c6b0b = L.popup({&quot;maxWidth&quot;: &quot;100%&quot;});\n",
       "\n",
       "        \n",
       "            \n",
       "                var html_7c03c5fa8cb6ec0db5d8f0683b0a9a4c = $(`&lt;div id=&quot;html_7c03c5fa8cb6ec0db5d8f0683b0a9a4c&quot; style=&quot;width: 100.0%; height: 100.0%;&quot;&gt;49d11ae6ef35a6f5&lt;/div&gt;`)[0];\n",
       "                popup_8c920bd0b55e6b1b382c22987b6c6b0b.setContent(html_7c03c5fa8cb6ec0db5d8f0683b0a9a4c);\n",
       "            \n",
       "        \n",
       "\n",
       "        marker_231aef7c23b35c1fb4fbea347f8e0db8.bindPopup(popup_8c920bd0b55e6b1b382c22987b6c6b0b)\n",
       "        ;\n",
       "\n",
       "        \n",
       "    \n",
       "    \n",
       "            var marker_cd2727abc616173fd4638bdb6881aa0e = L.marker(\n",
       "                [-22.46631, 149.086073],\n",
       "                {}\n",
       "            ).addTo(map_47404b8c63e22a711ecf0f5b4206a108);\n",
       "        \n",
       "    \n",
       "        var popup_74c7ce3c7a8eaa6be75bca33a8208202 = L.popup({&quot;maxWidth&quot;: &quot;100%&quot;});\n",
       "\n",
       "        \n",
       "            \n",
       "                var html_7a34427f56083747576cfdc2ecbec24d = $(`&lt;div id=&quot;html_7a34427f56083747576cfdc2ecbec24d&quot; style=&quot;width: 100.0%; height: 100.0%;&quot;&gt;0433d3a999a796c6&lt;/div&gt;`)[0];\n",
       "                popup_74c7ce3c7a8eaa6be75bca33a8208202.setContent(html_7a34427f56083747576cfdc2ecbec24d);\n",
       "            \n",
       "        \n",
       "\n",
       "        marker_cd2727abc616173fd4638bdb6881aa0e.bindPopup(popup_74c7ce3c7a8eaa6be75bca33a8208202)\n",
       "        ;\n",
       "\n",
       "        \n",
       "    \n",
       "    \n",
       "            var marker_ac1d8d55bb517e1cfd77fe54df6b7720 = L.marker(\n",
       "                [-20.055837, 146.896034],\n",
       "                {}\n",
       "            ).addTo(map_47404b8c63e22a711ecf0f5b4206a108);\n",
       "        \n",
       "    \n",
       "        var popup_033060ed5234a4c69a659d9b1f59d166 = L.popup({&quot;maxWidth&quot;: &quot;100%&quot;});\n",
       "\n",
       "        \n",
       "            \n",
       "                var html_3f569df8f40fc168bacc536af6ca1ec3 = $(`&lt;div id=&quot;html_3f569df8f40fc168bacc536af6ca1ec3&quot; style=&quot;width: 100.0%; height: 100.0%;&quot;&gt;50651de7b22d9862&lt;/div&gt;`)[0];\n",
       "                popup_033060ed5234a4c69a659d9b1f59d166.setContent(html_3f569df8f40fc168bacc536af6ca1ec3);\n",
       "            \n",
       "        \n",
       "\n",
       "        marker_ac1d8d55bb517e1cfd77fe54df6b7720.bindPopup(popup_033060ed5234a4c69a659d9b1f59d166)\n",
       "        ;\n",
       "\n",
       "        \n",
       "    \n",
       "&lt;/script&gt;\n",
       "&lt;/html&gt;\" style=\"position:absolute;width:100%;height:100%;left:0;top:0;border:none !important;\" allowfullscreen webkitallowfullscreen mozallowfullscreen></iframe></div></div>"
      ],
      "text/plain": [
       "<folium.folium.Map at 0x16527257550>"
      ]
     },
     "execution_count": 23,
     "metadata": {},
     "output_type": "execute_result"
    }
   ],
   "source": [
    "map"
   ]
  },
  {
   "cell_type": "code",
   "execution_count": null,
   "metadata": {},
   "outputs": [],
   "source": []
  },
  {
   "cell_type": "markdown",
   "metadata": {},
   "source": [
    "### Q2. (Example: How have injuries changed over time?)\n",
    "\n",
    "To explore this question, first I started by..."
   ]
  },
  {
   "cell_type": "code",
   "execution_count": 24,
   "metadata": {},
   "outputs": [
    {
     "data": {
      "text/plain": [
       "15"
      ]
     },
     "execution_count": 24,
     "metadata": {},
     "output_type": "execute_result"
    }
   ],
   "source": [
    "# code exploring question two\n",
    "safety[\"site_key_hashed\"].nunique() "
   ]
  },
  {
   "cell_type": "code",
   "execution_count": null,
   "metadata": {},
   "outputs": [],
   "source": [
    "safety[\"site_key_hashed\"].unique() "
   ]
  },
  {
   "cell_type": "code",
   "execution_count": null,
   "metadata": {},
   "outputs": [],
   "source": [
    "site_location[\"site_key_hashed\"].nunique() "
   ]
  },
  {
   "cell_type": "markdown",
   "metadata": {},
   "source": [
    "#### Site Where incident occur"
   ]
  },
  {
   "cell_type": "code",
   "execution_count": null,
   "metadata": {},
   "outputs": [],
   "source": [
    "plt.figure(figsize=(15,8))\n",
    "site_key_count=safety[\"site_key_hashed\"].value_counts()\n",
    "ax=site_key_count.plot.bar(color=\"darkblue\")\n",
    "\n",
    "for p in ax.patches:\n",
    "   ax.annotate('{:.0f}'.format(p.get_height()), (p.get_x()+0.25, p.get_height()+0.01))\n",
    "plt.xlabel(\" Site_key_hashed\",size=20)\n",
    "plt.ylabel(\"COUNT \",size=20)\n",
    "plt.xticks(rotation=90,size=15)\n",
    "plt.title(\"Site location where injuries most\",size=25)\n",
    "plt.show()"
   ]
  },
  {
   "cell_type": "code",
   "execution_count": null,
   "metadata": {},
   "outputs": [],
   "source": []
  },
  {
   "cell_type": "code",
   "execution_count": null,
   "metadata": {},
   "outputs": [],
   "source": [
    "# Analysising  based on the site_location\n",
    "\n",
    "safety_loc1=safety.query(\"site_key_hashed=='bf4065199d70073b'\")"
   ]
  },
  {
   "cell_type": "code",
   "execution_count": null,
   "metadata": {},
   "outputs": [],
   "source": [
    "#Teams involved in site_key_hashed(bf4065199d70073b)\n",
    "plt.figure(figsize=(15,8))\n",
    "WorkGroup_count=safety_loc1[\"WorkGroupId\"].value_counts()\n",
    "ax=WorkGroup_count[:20].plot.bar(color=\"darkblue\")\n",
    "\n",
    "for p in ax.patches:\n",
    "   ax.annotate('{:.0f}'.format(p.get_height()), (p.get_x()+0.25, p.get_height()+0.01))\n",
    "plt.xlabel(\"Work_group\",size=20)\n",
    "plt.ylabel(\"COUNT \",size=20)\n",
    "plt.xticks(rotation=90,size=15)\n",
    "plt.title(\"Top 20 Groups that involved in the incident\",size=25)\n",
    "plt.show()"
   ]
  },
  {
   "cell_type": "code",
   "execution_count": null,
   "metadata": {},
   "outputs": [],
   "source": [
    "#types of activities involved at the site \n",
    "plt.figure(figsize=(15,8))\n",
    "WorkGroup_count=safety_loc1[\"AgencyOfInjury\"].value_counts()\n",
    "ax=WorkGroup_count.plot.bar(color=\"darkblue\")\n",
    "\n",
    "for p in ax.patches:\n",
    "   ax.annotate('{:.0f}'.format(p.get_height()), (p.get_x()+0.25, p.get_height()+0.01))\n",
    "plt.xlabel(\"Work_group\",size=20)\n",
    "plt.ylabel(\"COUNT \",size=20)\n",
    "plt.xticks(rotation=90,size=15)\n",
    "plt.title(\"Activities that involved in the incident\",size=25)\n",
    "plt.show()"
   ]
  },
  {
   "cell_type": "code",
   "execution_count": null,
   "metadata": {},
   "outputs": [],
   "source": [
    "safety_loc2=safety.query(\"site_key_hashed=='53030efca88e7301'\")"
   ]
  },
  {
   "cell_type": "code",
   "execution_count": null,
   "metadata": {},
   "outputs": [],
   "source": [
    "#Teams involved in site_key_hashed(53030efca88e7301)\n",
    "plt.figure(figsize=(15,8))\n",
    "WorkGroup_count=safety_loc2[\"WorkGroupId\"].value_counts()\n",
    "ax=WorkGroup_count[:20].plot.bar(color=\"darkblue\")\n",
    "\n",
    "for p in ax.patches:\n",
    "   ax.annotate('{:.0f}'.format(p.get_height()), (p.get_x()+0.25, p.get_height()+0.01))\n",
    "plt.xlabel(\"Work_group\",size=20)\n",
    "plt.ylabel(\"COUNT \",size=20)\n",
    "plt.xticks(rotation=90,size=15)\n",
    "plt.title(\"Top 20 Groups that involved in the incident\",size=25)\n",
    "plt.show()"
   ]
  },
  {
   "cell_type": "code",
   "execution_count": null,
   "metadata": {},
   "outputs": [],
   "source": [
    "#types of activities involved at the site \n",
    "plt.figure(figsize=(15,8))\n",
    "WorkGroup_count=safety_loc2[\"AgencyOfInjury\"].value_counts()\n",
    "ax=WorkGroup_count.plot.bar(color=\"darkblue\")\n",
    "\n",
    "for p in ax.patches:\n",
    "   ax.annotate('{:.0f}'.format(p.get_height()), (p.get_x()+0.25, p.get_height()+0.01))\n",
    "plt.xlabel(\"Work_group\",size=20)\n",
    "plt.ylabel(\"COUNT \",size=20)\n",
    "plt.xticks(rotation=90,size=15)\n",
    "plt.title(\"Activities that involved in the incident\",size=25)\n",
    "plt.show()"
   ]
  },
  {
   "cell_type": "code",
   "execution_count": null,
   "metadata": {},
   "outputs": [],
   "source": [
    "# site 3\n",
    "safety_loc3=safety.query(\"site_key_hashed=='28163a97aea8a693'\")"
   ]
  },
  {
   "cell_type": "code",
   "execution_count": null,
   "metadata": {},
   "outputs": [],
   "source": [
    "#Teams involved in site_key_hashed(53030efca88e7301)\n",
    "plt.figure(figsize=(15,8))\n",
    "WorkGroup_count=safety_loc3[\"WorkGroupId\"].value_counts()\n",
    "ax=WorkGroup_count[:20].plot.bar(color=\"darkblue\")\n",
    "\n",
    "for p in ax.patches:\n",
    "   ax.annotate('{:.0f}'.format(p.get_height()), (p.get_x()+0.25, p.get_height()+0.01))\n",
    "plt.xlabel(\"Work_group\",size=20)\n",
    "plt.ylabel(\"COUNT \",size=20)\n",
    "plt.xticks(rotation=90,size=15)\n",
    "plt.title(\"Top 20 Groups that involved in the incident\",size=25)\n",
    "plt.show()"
   ]
  },
  {
   "cell_type": "code",
   "execution_count": null,
   "metadata": {},
   "outputs": [],
   "source": [
    "#types of activities involved at the site \n",
    "plt.figure(figsize=(15,8))\n",
    "WorkGroup_count=safety_loc3[\"Agency Of Injury\"].value_counts()\n",
    "ax=WorkGroup_count.plot.bar(color=\"darkblue\")\n",
    "\n",
    "for p in ax.patches:\n",
    "   ax.annotate('{:.0f}'.format(p.get_height()), (p.get_x()+0.25, p.get_height()+0.01))\n",
    "plt.xlabel(\"Work_group\",size=20)\n",
    "plt.ylabel(\"COUNT \",size=20)\n",
    "plt.xticks(rotation=90,size=15)\n",
    "plt.title(\"Activities that involved in the incident\",size=25)\n",
    "plt.show()"
   ]
  },
  {
   "cell_type": "code",
   "execution_count": null,
   "metadata": {},
   "outputs": [],
   "source": [
    "# site 4\n",
    "safety_loc4=safety.query(\"site_key_hashed=='da820a60662e5c87'\")"
   ]
  },
  {
   "cell_type": "code",
   "execution_count": null,
   "metadata": {},
   "outputs": [],
   "source": [
    "#Teams involved in site_key_hashed('da820a60662e5c87)\n",
    "plt.figure(figsize=(15,8))\n",
    "WorkGroup_count=safety_loc4[\"WorkGroupId\"].value_counts()\n",
    "ax=WorkGroup_count[:20].plot.bar(color=\"darkblue\")\n",
    "\n",
    "for p in ax.patches:\n",
    "   ax.annotate('{:.0f}'.format(p.get_height()), (p.get_x()+0.25, p.get_height()+0.01))\n",
    "plt.xlabel(\"Work_group\",size=20)\n",
    "plt.ylabel(\"COUNT \",size=20)\n",
    "plt.xticks(rotation=90,size=15)\n",
    "plt.title(\"Top 20 Groups that involved in the incident\",size=25)\n",
    "plt.show()"
   ]
  },
  {
   "cell_type": "code",
   "execution_count": null,
   "metadata": {},
   "outputs": [],
   "source": [
    "#types of activities involved at the site \n",
    "plt.figure(figsize=(15,8))\n",
    "WorkGroup_count=safety_loc4[\"AgencyOfInjury\"].value_counts()\n",
    "ax=WorkGroup_count.plot.bar(color=\"darkblue\")\n",
    "\n",
    "for p in ax.patches:\n",
    "   ax.annotate('{:.0f}'.format(p.get_height()), (p.get_x()+0.25, p.get_height()+0.01))\n",
    "plt.xlabel(\"Work_group\",size=20)\n",
    "plt.ylabel(\"COUNT \",size=20)\n",
    "plt.xticks(rotation=90,size=15)\n",
    "plt.title(\"Activities that involved in the incident\",size=25)\n",
    "plt.show()"
   ]
  },
  {
   "cell_type": "code",
   "execution_count": null,
   "metadata": {},
   "outputs": [],
   "source": [
    "# site 5\n",
    "safety_loc5=safety.query(\"site_key_hashed=='350755ad348968b9'\")"
   ]
  },
  {
   "cell_type": "code",
   "execution_count": null,
   "metadata": {},
   "outputs": [],
   "source": [
    "#Teams involved in site_key_hashed(350755ad348968b9)\n",
    "plt.figure(figsize=(15,8))\n",
    "WorkGroup_count=safety_loc5[\"WorkGroupId\"].value_counts()\n",
    "ax=WorkGroup_count[:20].plot.bar(color=\"darkblue\")\n",
    "\n",
    "for p in ax.patches:\n",
    "   ax.annotate('{:.0f}'.format(p.get_height()), (p.get_x()+0.25, p.get_height()+0.01))\n",
    "plt.xlabel(\"Work_group\",size=20)\n",
    "plt.ylabel(\"COUNT \",size=20)\n",
    "plt.xticks(rotation=90,size=15)\n",
    "plt.title(\"Top 20 Groups that involved in the incident\",size=25)\n",
    "plt.show()"
   ]
  },
  {
   "cell_type": "code",
   "execution_count": null,
   "metadata": {},
   "outputs": [],
   "source": [
    "#types of activities involved at the site \n",
    "plt.figure(figsize=(15,8))\n",
    "WorkGroup_count=safety_loc5[\"AgencyOfInjury\"].value_counts()\n",
    "ax=WorkGroup_count.plot.bar(color=\"darkblue\")\n",
    "\n",
    "for p in ax.patches:\n",
    "   ax.annotate('{:.0f}'.format(p.get_height()), (p.get_x()+0.25, p.get_height()+0.01))\n",
    "plt.xlabel(\"Work_group\",size=20)\n",
    "plt.ylabel(\"COUNT \",size=20)\n",
    "plt.xticks(rotation=90,size=15)\n",
    "plt.title(\"Activities that involved in the incident\",size=25)\n",
    "plt.show()"
   ]
  },
  {
   "cell_type": "markdown",
   "metadata": {},
   "source": [
    "#### Teams involved in incidents"
   ]
  },
  {
   "cell_type": "code",
   "execution_count": null,
   "metadata": {},
   "outputs": [],
   "source": [
    "# list of th work_group invoved in the minnng\n",
    "print(f\" There are {person_workgroup['work_group_id'].nunique()} group in Minning Organization\")\n",
    "person_workgroup[\"work_group_id\"].unique()"
   ]
  },
  {
   "cell_type": "code",
   "execution_count": null,
   "metadata": {},
   "outputs": [],
   "source": [
    "# list of group involved in the incident that occurs\n",
    "print(f\"There are {safety['WorkGroupId'].nunique()} groups\")\n",
    "safety['WorkGroupId'].unique()"
   ]
  },
  {
   "cell_type": "code",
   "execution_count": null,
   "metadata": {},
   "outputs": [],
   "source": [
    "plt.figure(figsize=(15,8))\n",
    "WorkGroup_count=safety[\"WorkGroupId\"].value_counts()\n",
    "ax=WorkGroup_count[:20].plot.bar(color=\"darkblue\")\n",
    "\n",
    "for p in ax.patches:\n",
    "   ax.annotate('{:.0f}'.format(p.get_height()), (p.get_x()+0.25, p.get_height()+0.01))\n",
    "plt.xlabel(\"Description Of Theft that Happened\",size=20)\n",
    "plt.ylabel(\"COUNT \",size=20)\n",
    "plt.xticks(rotation=90,size=15)\n",
    "plt.title(\"Top 20 Groups that involved in the incident\",size=25)\n",
    "plt.show()"
   ]
  },
  {
   "cell_type": "code",
   "execution_count": null,
   "metadata": {},
   "outputs": [],
   "source": []
  },
  {
   "cell_type": "markdown",
   "metadata": {},
   "source": [
    "### Is there any pattern within the prevalence of certain types of injuries? Are any specific body parts always involved? How is injury severity seen to differ?"
   ]
  },
  {
   "cell_type": "code",
   "execution_count": null,
   "metadata": {},
   "outputs": [],
   "source": [
    "safety[\"NatureOfInjury\"].value_counts()"
   ]
  },
  {
   "cell_type": "code",
   "execution_count": null,
   "metadata": {},
   "outputs": [],
   "source": [
    "plt.figure(figsize=(15,8))\n",
    "WorkGroup_count=safety[\"NatureOfInjury\"].value_counts()\n",
    "ax=WorkGroup_count.plot.bar(color=\"darkblue\")\n",
    "\n",
    "for p in ax.patches:\n",
    "   ax.annotate('{:.0f}'.format(p.get_height()), (p.get_x()+0.25, p.get_height()+0.01))\n",
    "plt.xlabel(\"Description Of Theft that Happened\",size=20)\n",
    "plt.ylabel(\"COUNT \",size=20)\n",
    "plt.xticks(rotation=90,size=15)\n",
    "plt.title(\"Top  that involved in the incident\",size=25)\n",
    "plt.show()"
   ]
  },
  {
   "cell_type": "code",
   "execution_count": null,
   "metadata": {},
   "outputs": [],
   "source": [
    "safety[\"BodyPart\"].unique()"
   ]
  },
  {
   "cell_type": "code",
   "execution_count": null,
   "metadata": {},
   "outputs": [],
   "source": [
    "plt.figure(figsize=(15,8))\n",
    "WorkGroup_count=safety[\"BodyPart\"].value_counts()\n",
    "ax=WorkGroup_count.plot.bar(color=\"darkblue\")\n",
    "\n",
    "for p in ax.patches:\n",
    "   ax.annotate('{:.0f}'.format(p.get_height()), (p.get_x()+0.25, p.get_height()+0.01))\n",
    "plt.xlabel(\"Description Of Theft that Happened\",size=20)\n",
    "plt.ylabel(\"COUNT \",size=20)\n",
    "plt.xticks(rotation=90,size=15)\n",
    "plt.title(\"Top 20 Groups that involved in the incident\",size=25)\n",
    "plt.show()"
   ]
  },
  {
   "cell_type": "markdown",
   "metadata": {},
   "source": [
    "Severity Rate(S.R): The  severity rate is the total number of days lost or charged due to accidents per one million man-hours worked.\n",
    "nunber of workers=employee_roster['name_hash'].nunique()=3073\n",
    "average worker per day= 24"
   ]
  },
  {
   "cell_type": "code",
   "execution_count": null,
   "metadata": {},
   "outputs": [],
   "source": [
    "employee_roster['name_hash'].nunique()"
   ]
  },
  {
   "cell_type": "code",
   "execution_count": 25,
   "metadata": {},
   "outputs": [
    {
     "data": {
      "text/html": [
       "<div>\n",
       "<style scoped>\n",
       "    .dataframe tbody tr th:only-of-type {\n",
       "        vertical-align: middle;\n",
       "    }\n",
       "\n",
       "    .dataframe tbody tr th {\n",
       "        vertical-align: top;\n",
       "    }\n",
       "\n",
       "    .dataframe thead th {\n",
       "        text-align: right;\n",
       "    }\n",
       "</style>\n",
       "<table border=\"1\" class=\"dataframe\">\n",
       "  <thead>\n",
       "    <tr style=\"text-align: right;\">\n",
       "      <th></th>\n",
       "      <th>date</th>\n",
       "      <th>name_hash</th>\n",
       "      <th>scheduled_work_hours</th>\n",
       "      <th>leave_type</th>\n",
       "      <th>leave_start_date_utc</th>\n",
       "      <th>leave_end_date_utc</th>\n",
       "    </tr>\n",
       "  </thead>\n",
       "  <tbody>\n",
       "    <tr>\n",
       "      <th>0</th>\n",
       "      <td>2021-11-01</td>\n",
       "      <td>45888e1fa8dc1ba4</td>\n",
       "      <td>12.00</td>\n",
       "      <td>NaN</td>\n",
       "      <td>NaN</td>\n",
       "      <td>NaN</td>\n",
       "    </tr>\n",
       "    <tr>\n",
       "      <th>1</th>\n",
       "      <td>2021-11-02</td>\n",
       "      <td>45888e1fa8dc1ba4</td>\n",
       "      <td>12.00</td>\n",
       "      <td>NaN</td>\n",
       "      <td>NaN</td>\n",
       "      <td>NaN</td>\n",
       "    </tr>\n",
       "    <tr>\n",
       "      <th>2</th>\n",
       "      <td>2021-11-03</td>\n",
       "      <td>45888e1fa8dc1ba4</td>\n",
       "      <td>12.00</td>\n",
       "      <td>NaN</td>\n",
       "      <td>NaN</td>\n",
       "      <td>NaN</td>\n",
       "    </tr>\n",
       "    <tr>\n",
       "      <th>3</th>\n",
       "      <td>2021-11-04</td>\n",
       "      <td>45888e1fa8dc1ba4</td>\n",
       "      <td>12.00</td>\n",
       "      <td>NaN</td>\n",
       "      <td>NaN</td>\n",
       "      <td>NaN</td>\n",
       "    </tr>\n",
       "    <tr>\n",
       "      <th>4</th>\n",
       "      <td>2021-11-05</td>\n",
       "      <td>45888e1fa8dc1ba4</td>\n",
       "      <td>12.00</td>\n",
       "      <td>NaN</td>\n",
       "      <td>NaN</td>\n",
       "      <td>NaN</td>\n",
       "    </tr>\n",
       "  </tbody>\n",
       "</table>\n",
       "</div>"
      ],
      "text/plain": [
       "         date         name_hash scheduled_work_hours leave_type  \\\n",
       "0  2021-11-01  45888e1fa8dc1ba4                12.00        NaN   \n",
       "1  2021-11-02  45888e1fa8dc1ba4                12.00        NaN   \n",
       "2  2021-11-03  45888e1fa8dc1ba4                12.00        NaN   \n",
       "3  2021-11-04  45888e1fa8dc1ba4                12.00        NaN   \n",
       "4  2021-11-05  45888e1fa8dc1ba4                12.00        NaN   \n",
       "\n",
       "  leave_start_date_utc leave_end_date_utc  \n",
       "0                  NaN                NaN  \n",
       "1                  NaN                NaN  \n",
       "2                  NaN                NaN  \n",
       "3                  NaN                NaN  \n",
       "4                  NaN                NaN  "
      ]
     },
     "execution_count": 25,
     "metadata": {},
     "output_type": "execute_result"
    }
   ],
   "source": [
    "employee_roster.head()"
   ]
  },
  {
   "cell_type": "code",
   "execution_count": null,
   "metadata": {},
   "outputs": [],
   "source": [
    "df_Prim=safety.groupby(by=\"NatureOfInjury\",)[\"LTIDays\"].sum().reset_index().sort_values(ascending=False,by=\"LTIDays\")\n",
    "df_Prim[\"severity rate\"]=(df_Prim[\"LTIDays\"]/(3073*24))"
   ]
  },
  {
   "cell_type": "code",
   "execution_count": null,
   "metadata": {},
   "outputs": [],
   "source": [
    "grp=safety.groupby(by=\"Injury\")[\"day\"].count().sort_values(ascending=False).reset_index(name=\"counts\")\n",
    "grp"
   ]
  },
  {
   "cell_type": "code",
   "execution_count": null,
   "metadata": {},
   "outputs": [],
   "source": []
  },
  {
   "cell_type": "code",
   "execution_count": null,
   "metadata": {},
   "outputs": [],
   "source": []
  },
  {
   "cell_type": "code",
   "execution_count": null,
   "metadata": {},
   "outputs": [],
   "source": []
  },
  {
   "cell_type": "code",
   "execution_count": null,
   "metadata": {},
   "outputs": [],
   "source": []
  },
  {
   "cell_type": "markdown",
   "metadata": {},
   "source": [
    "### Summary of findings\n",
    "\n",
    "* ..."
   ]
  },
  {
   "cell_type": "code",
   "execution_count": null,
   "metadata": {},
   "outputs": [],
   "source": []
  },
  {
   "cell_type": "code",
   "execution_count": null,
   "metadata": {},
   "outputs": [],
   "source": []
  },
  {
   "cell_type": "markdown",
   "metadata": {},
   "source": [
    "***"
   ]
  },
  {
   "cell_type": "markdown",
   "metadata": {},
   "source": [
    "## Phase 2\n",
    "\n",
    "> * A report documenting your findings (in PDF format, or a very well formatted notebook).\n",
    "> * All the related resources (notebooks, code, models, etc.) associated with your final \n",
    "."
   ]
  },
  {
   "cell_type": "markdown",
   "metadata": {},
   "source": [
    "### Executive Summary\n",
    "\n",
    "### Introduction\n",
    "\n",
    "### Analysis\n",
    "\n",
    "### Conclusion\n",
    "\n",
    "How valuable was your analysis? What are the practical impacts of your analysis for safety within this mining organisation? Are there any improvements you could make to your analysis in the future? Any data you feel like was important, but it was missing? Any oppurtunities for machine learning models that could provide value? etc."
   ]
  }
 ],
 "metadata": {
  "kernelspec": {
   "display_name": "Python 3 (ipykernel)",
   "language": "python",
   "name": "python3"
  },
  "language_info": {
   "codemirror_mode": {
    "name": "ipython",
    "version": 3
   },
   "file_extension": ".py",
   "mimetype": "text/x-python",
   "name": "python",
   "nbconvert_exporter": "python",
   "pygments_lexer": "ipython3",
   "version": "3.9.12"
  },
  "toc": {
   "base_numbering": 1,
   "nav_menu": {},
   "number_sections": true,
   "sideBar": true,
   "skip_h1_title": false,
   "title_cell": "Table of Contents",
   "title_sidebar": "Contents",
   "toc_cell": false,
   "toc_position": {},
   "toc_section_display": true,
   "toc_window_display": false
  },
  "vscode": {
   "interpreter": {
    "hash": "ad2bdc8ecc057115af97d19610ffacc2b4e99fae6737bb82f5d7fb13d2f2c186"
   }
  }
 },
 "nbformat": 4,
 "nbformat_minor": 4
}
